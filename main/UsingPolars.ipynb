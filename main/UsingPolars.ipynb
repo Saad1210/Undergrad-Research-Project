{
 "cells": [
  {
   "cell_type": "code",
   "execution_count": 1,
   "id": "0f87627e",
   "metadata": {},
   "outputs": [],
   "source": [
    "import polars as pl\n",
    "import pandas as pd\n",
    "import numpy as np\n",
    "from datetime import datetime\n",
    "import warnings\n",
    "warnings.filterwarnings('ignore')"
   ]
  },
  {
   "cell_type": "code",
   "execution_count": 2,
   "id": "5c3ba441",
   "metadata": {},
   "outputs": [
    {
     "data": {
      "text/plain": [
       "((2312579, 10), polars.dataframe.frame.DataFrame)"
      ]
     },
     "execution_count": 2,
     "metadata": {},
     "output_type": "execute_result"
    }
   ],
   "source": [
    "df = pl.read_csv('for_polars.csv')\n",
    "df = df.with_columns(\n",
    "    pl.col('BaseDateTime')\n",
    "    .str.to_datetime('%Y-%m-%d %H:%M:%S')\n",
    ")\n",
    "df.shape, type(df)"
   ]
  },
  {
   "cell_type": "code",
   "execution_count": 3,
   "id": "af84d751",
   "metadata": {},
   "outputs": [
    {
     "data": {
      "text/html": [
       "<div><style>\n",
       ".dataframe > thead > tr,\n",
       ".dataframe > tbody > tr {\n",
       "  text-align: right;\n",
       "  white-space: pre-wrap;\n",
       "}\n",
       "</style>\n",
       "<small>shape: (5, 10)</small><table border=\"1\" class=\"dataframe\"><thead><tr><th></th><th>BaseDateTime</th><th>MMSI</th><th>LAT</th><th>LON</th><th>SOG</th><th>COG</th><th>Navigation_sequence</th><th>i</th><th>j</th></tr><tr><td>i64</td><td>datetime[μs]</td><td>f64</td><td>f64</td><td>f64</td><td>f64</td><td>f64</td><td>i64</td><td>f64</td><td>f64</td></tr></thead><tbody><tr><td>0</td><td>2021-02-27 12:52:00</td><td>2.05553e8</td><td>26.10166</td><td>-80.00492</td><td>6.5</td><td>329.0</td><td>1</td><td>7.0</td><td>15.0</td></tr><tr><td>1</td><td>2021-02-27 12:53:00</td><td>2.05553e8</td><td>26.10342</td><td>-80.00615</td><td>6.5</td><td>328.0</td><td>1</td><td>7.0</td><td>15.0</td></tr><tr><td>2</td><td>2021-02-27 12:54:00</td><td>2.05553e8</td><td>26.10527</td><td>-80.00736</td><td>6.5</td><td>328.1</td><td>1</td><td>7.0</td><td>15.0</td></tr><tr><td>3</td><td>2021-02-27 12:55:00</td><td>2.05553e8</td><td>26.10697</td><td>-80.00869</td><td>6.2</td><td>321.0</td><td>1</td><td>7.0</td><td>14.0</td></tr><tr><td>4</td><td>2021-02-27 12:56:00</td><td>2.05553e8</td><td>26.10697</td><td>-80.00869</td><td>6.2</td><td>321.0</td><td>1</td><td>7.0</td><td>14.0</td></tr></tbody></table></div>"
      ],
      "text/plain": [
       "shape: (5, 10)\n",
       "┌─────┬─────────────────────┬───────────┬──────────┬───┬───────┬─────────────────────┬─────┬──────┐\n",
       "│     ┆ BaseDateTime        ┆ MMSI      ┆ LAT      ┆ … ┆ COG   ┆ Navigation_sequence ┆ i   ┆ j    │\n",
       "│ --- ┆ ---                 ┆ ---       ┆ ---      ┆   ┆ ---   ┆ ---                 ┆ --- ┆ ---  │\n",
       "│ i64 ┆ datetime[μs]        ┆ f64       ┆ f64      ┆   ┆ f64   ┆ i64                 ┆ f64 ┆ f64  │\n",
       "╞═════╪═════════════════════╪═══════════╪══════════╪═══╪═══════╪═════════════════════╪═════╪══════╡\n",
       "│ 0   ┆ 2021-02-27 12:52:00 ┆ 2.05553e8 ┆ 26.10166 ┆ … ┆ 329.0 ┆ 1                   ┆ 7.0 ┆ 15.0 │\n",
       "│ 1   ┆ 2021-02-27 12:53:00 ┆ 2.05553e8 ┆ 26.10342 ┆ … ┆ 328.0 ┆ 1                   ┆ 7.0 ┆ 15.0 │\n",
       "│ 2   ┆ 2021-02-27 12:54:00 ┆ 2.05553e8 ┆ 26.10527 ┆ … ┆ 328.1 ┆ 1                   ┆ 7.0 ┆ 15.0 │\n",
       "│ 3   ┆ 2021-02-27 12:55:00 ┆ 2.05553e8 ┆ 26.10697 ┆ … ┆ 321.0 ┆ 1                   ┆ 7.0 ┆ 14.0 │\n",
       "│ 4   ┆ 2021-02-27 12:56:00 ┆ 2.05553e8 ┆ 26.10697 ┆ … ┆ 321.0 ┆ 1                   ┆ 7.0 ┆ 14.0 │\n",
       "└─────┴─────────────────────┴───────────┴──────────┴───┴───────┴─────────────────────┴─────┴──────┘"
      ]
     },
     "execution_count": 3,
     "metadata": {},
     "output_type": "execute_result"
    }
   ],
   "source": [
    "df.head()"
   ]
  },
  {
   "cell_type": "code",
   "execution_count": 4,
   "id": "cdfdf328",
   "metadata": {},
   "outputs": [],
   "source": [
    "df = df.with_row_count('Index')"
   ]
  },
  {
   "cell_type": "code",
   "execution_count": 5,
   "id": "053abdcd",
   "metadata": {},
   "outputs": [],
   "source": [
    "df = df.with_columns(Encountering = pl.lit(0),\n",
    "                Conflicting = pl.lit(0),\n",
    "                TCPA = pl.lit(0),\n",
    "                DCPA = pl.lit(0)\n",
    "               )"
   ]
  },
  {
   "cell_type": "code",
   "execution_count": 6,
   "id": "178e17f5",
   "metadata": {},
   "outputs": [
    {
     "data": {
      "text/html": [
       "<div><style>\n",
       ".dataframe > thead > tr,\n",
       ".dataframe > tbody > tr {\n",
       "  text-align: right;\n",
       "  white-space: pre-wrap;\n",
       "}\n",
       "</style>\n",
       "<small>shape: (5, 15)</small><table border=\"1\" class=\"dataframe\"><thead><tr><th>Index</th><th></th><th>BaseDateTime</th><th>MMSI</th><th>LAT</th><th>LON</th><th>SOG</th><th>COG</th><th>Navigation_sequence</th><th>i</th><th>j</th><th>Encountering</th><th>Conflicting</th><th>TCPA</th><th>DCPA</th></tr><tr><td>u32</td><td>i64</td><td>datetime[μs]</td><td>f64</td><td>f64</td><td>f64</td><td>f64</td><td>f64</td><td>i64</td><td>f64</td><td>f64</td><td>i32</td><td>i32</td><td>i32</td><td>i32</td></tr></thead><tbody><tr><td>0</td><td>0</td><td>2021-02-27 12:52:00</td><td>2.05553e8</td><td>26.10166</td><td>-80.00492</td><td>6.5</td><td>329.0</td><td>1</td><td>7.0</td><td>15.0</td><td>0</td><td>0</td><td>0</td><td>0</td></tr><tr><td>1</td><td>1</td><td>2021-02-27 12:53:00</td><td>2.05553e8</td><td>26.10342</td><td>-80.00615</td><td>6.5</td><td>328.0</td><td>1</td><td>7.0</td><td>15.0</td><td>0</td><td>0</td><td>0</td><td>0</td></tr><tr><td>2</td><td>2</td><td>2021-02-27 12:54:00</td><td>2.05553e8</td><td>26.10527</td><td>-80.00736</td><td>6.5</td><td>328.1</td><td>1</td><td>7.0</td><td>15.0</td><td>0</td><td>0</td><td>0</td><td>0</td></tr><tr><td>3</td><td>3</td><td>2021-02-27 12:55:00</td><td>2.05553e8</td><td>26.10697</td><td>-80.00869</td><td>6.2</td><td>321.0</td><td>1</td><td>7.0</td><td>14.0</td><td>0</td><td>0</td><td>0</td><td>0</td></tr><tr><td>4</td><td>4</td><td>2021-02-27 12:56:00</td><td>2.05553e8</td><td>26.10697</td><td>-80.00869</td><td>6.2</td><td>321.0</td><td>1</td><td>7.0</td><td>14.0</td><td>0</td><td>0</td><td>0</td><td>0</td></tr></tbody></table></div>"
      ],
      "text/plain": [
       "shape: (5, 15)\n",
       "┌───────┬─────┬─────────────────────┬───────────┬───┬──────────────┬─────────────┬──────┬──────┐\n",
       "│ Index ┆     ┆ BaseDateTime        ┆ MMSI      ┆ … ┆ Encountering ┆ Conflicting ┆ TCPA ┆ DCPA │\n",
       "│ ---   ┆ --- ┆ ---                 ┆ ---       ┆   ┆ ---          ┆ ---         ┆ ---  ┆ ---  │\n",
       "│ u32   ┆ i64 ┆ datetime[μs]        ┆ f64       ┆   ┆ i32          ┆ i32         ┆ i32  ┆ i32  │\n",
       "╞═══════╪═════╪═════════════════════╪═══════════╪═══╪══════════════╪═════════════╪══════╪══════╡\n",
       "│ 0     ┆ 0   ┆ 2021-02-27 12:52:00 ┆ 2.05553e8 ┆ … ┆ 0            ┆ 0           ┆ 0    ┆ 0    │\n",
       "│ 1     ┆ 1   ┆ 2021-02-27 12:53:00 ┆ 2.05553e8 ┆ … ┆ 0            ┆ 0           ┆ 0    ┆ 0    │\n",
       "│ 2     ┆ 2   ┆ 2021-02-27 12:54:00 ┆ 2.05553e8 ┆ … ┆ 0            ┆ 0           ┆ 0    ┆ 0    │\n",
       "│ 3     ┆ 3   ┆ 2021-02-27 12:55:00 ┆ 2.05553e8 ┆ … ┆ 0            ┆ 0           ┆ 0    ┆ 0    │\n",
       "│ 4     ┆ 4   ┆ 2021-02-27 12:56:00 ┆ 2.05553e8 ┆ … ┆ 0            ┆ 0           ┆ 0    ┆ 0    │\n",
       "└───────┴─────┴─────────────────────┴───────────┴───┴──────────────┴─────────────┴──────┴──────┘"
      ]
     },
     "execution_count": 6,
     "metadata": {},
     "output_type": "execute_result"
    }
   ],
   "source": [
    "df.head()"
   ]
  },
  {
   "cell_type": "code",
   "execution_count": 7,
   "id": "ff5a9cf9",
   "metadata": {},
   "outputs": [],
   "source": [
    "import geopy.distance\n",
    "\n",
    "def euclidian_distance(x1 = 0, y1 = 0, x2 = 0, y2 = 0):\n",
    "    coord_1 = (x1, y1)\n",
    "    coord_2 = (x2, y2)\n",
    "    return geopy.distance.geodesic(coord_1, coord_2).m"
   ]
  },
  {
   "cell_type": "code",
   "execution_count": 8,
   "id": "44c90d7c",
   "metadata": {},
   "outputs": [],
   "source": [
    "from math import sin, cos, atan2, radians, degrees\n",
    "\n",
    "def calculate_true_bearing(lon1, lat1, lon2, lat2, cog):\n",
    "    \n",
    "    '''\n",
    "    # Convert latitudes and longitudes from degrees to radians\n",
    "    lat1, lon1, lat2, lon2 = map(radians, [lat1, lon1, lat2, lon2])\n",
    "    \n",
    "    # Difference in the longitudes\n",
    "    dLon = lon2 - lon1\n",
    "    \n",
    "    # Calculate the bearing\n",
    "    x = sin(dLon) * cos(lat2)\n",
    "    y = cos(lat1) * sin(lat2) - sin(lat1) * cos(lat2) * cos(dLon)\n",
    "    initial_bearing = atan2(x, y)\n",
    "    \n",
    "    # Convert from radians to degrees\n",
    "    initial_bearing = degrees(initial_bearing)\n",
    "    \n",
    "    # Normalize the bearing\n",
    "    true_bearing = (initial_bearing + 360) % 360\n",
    "    \n",
    "    '''\n",
    "    V_r_x = lon1 - lon2\n",
    "    V_r_y = lat1 - lat2\n",
    "    \n",
    "    # Angle between vector R joining 2 ships and y axis\n",
    "    angle = atan2(V_r_x, V_r_y) \n",
    "    \n",
    "    true_bearing = (degrees(angle - cog) + 360) % 360\n",
    "    \n",
    "    return radians(true_bearing) "
   ]
  },
  {
   "cell_type": "code",
   "execution_count": 9,
   "id": "6fe80c61",
   "metadata": {},
   "outputs": [],
   "source": [
    "def relative_velocity(sog1, cog1, sog2, cog2):\n",
    "    \n",
    "    sog1 *= 0.514\n",
    "    sog2 *= 0.514\n",
    "    \n",
    "    cog1 = radians(cog1)\n",
    "    cog2 = radians(cog2)\n",
    "    \n",
    "    V_own_x = sog1 * cos(cog1)\n",
    "    V_own_y = sog1 * sin(cog1)  \n",
    "    V_other_x = sog2 * cos(cog2)\n",
    "    V_other_y = sog2 * sin(cog2)\n",
    "    \n",
    "    V_r_x = V_own_x - V_other_x\n",
    "    V_r_y = V_own_y - V_other_y\n",
    "    \n",
    "    angle = atan2(V_r_x, V_r_y)\n",
    "    mod = np.sqrt(V_r_x**2 + V_r_y**2)\n",
    "    \n",
    "    return angle, mod"
   ]
  },
  {
   "cell_type": "code",
   "execution_count": 18,
   "id": "60659c17",
   "metadata": {},
   "outputs": [
    {
     "ename": "PanicException",
     "evalue": "UDF failed: the truth value of a Series is ambiguous\n\nHint: use '&' or '|' to chain Series boolean results together, not and/or. To check if a Series contains any values, use `is_empty()`.",
     "output_type": "error",
     "traceback": [
      "\u001b[1;31m---------------------------------------------------------------------------\u001b[0m",
      "\u001b[1;31mPanicException\u001b[0m                            Traceback (most recent call last)",
      "\u001b[1;32m~\\AppData\\Local\\Temp\\ipykernel_16272\\2204825298.py\u001b[0m in \u001b[0;36m<module>\u001b[1;34m\u001b[0m\n\u001b[0;32m     23\u001b[0m \u001b[1;33m\u001b[0m\u001b[0m\n\u001b[0;32m     24\u001b[0m \u001b[1;31m# Group by 'BaseDateTime' and apply the function\u001b[0m\u001b[1;33m\u001b[0m\u001b[1;33m\u001b[0m\u001b[0m\n\u001b[1;32m---> 25\u001b[1;33m \u001b[0mresult\u001b[0m \u001b[1;33m=\u001b[0m \u001b[0mdf\u001b[0m\u001b[1;33m.\u001b[0m\u001b[0mgroupby\u001b[0m\u001b[1;33m(\u001b[0m\u001b[1;34m'BaseDateTime'\u001b[0m\u001b[1;33m)\u001b[0m\u001b[1;33m.\u001b[0m\u001b[0mapply\u001b[0m\u001b[1;33m(\u001b[0m\u001b[0mcalculate_metrics_for_pairs\u001b[0m\u001b[1;33m)\u001b[0m\u001b[1;33m\u001b[0m\u001b[1;33m\u001b[0m\u001b[0m\n\u001b[0m\u001b[0;32m     26\u001b[0m \u001b[1;33m\u001b[0m\u001b[0m\n\u001b[0;32m     27\u001b[0m \u001b[1;31m# This 'result' DataFrame now contains metrics for ship pairs that meet your criteria within each timestamp group\u001b[0m\u001b[1;33m\u001b[0m\u001b[1;33m\u001b[0m\u001b[0m\n",
      "\u001b[1;32m~\\anaconda3\\lib\\site-packages\\polars\\utils\\deprecation.py\u001b[0m in \u001b[0;36mwrapper\u001b[1;34m(*args, **kwargs)\u001b[0m\n\u001b[0;32m     59\u001b[0m                 \u001b[0mversion\u001b[0m\u001b[1;33m=\u001b[0m\u001b[0mversion\u001b[0m\u001b[1;33m,\u001b[0m\u001b[1;33m\u001b[0m\u001b[1;33m\u001b[0m\u001b[0m\n\u001b[0;32m     60\u001b[0m             )\n\u001b[1;32m---> 61\u001b[1;33m             \u001b[1;32mreturn\u001b[0m \u001b[0mfunction\u001b[0m\u001b[1;33m(\u001b[0m\u001b[1;33m*\u001b[0m\u001b[0margs\u001b[0m\u001b[1;33m,\u001b[0m \u001b[1;33m**\u001b[0m\u001b[0mkwargs\u001b[0m\u001b[1;33m)\u001b[0m\u001b[1;33m\u001b[0m\u001b[1;33m\u001b[0m\u001b[0m\n\u001b[0m\u001b[0;32m     62\u001b[0m \u001b[1;33m\u001b[0m\u001b[0m\n\u001b[0;32m     63\u001b[0m         \u001b[0mwrapper\u001b[0m\u001b[1;33m.\u001b[0m\u001b[0m__signature__\u001b[0m \u001b[1;33m=\u001b[0m \u001b[0minspect\u001b[0m\u001b[1;33m.\u001b[0m\u001b[0msignature\u001b[0m\u001b[1;33m(\u001b[0m\u001b[0mfunction\u001b[0m\u001b[1;33m)\u001b[0m  \u001b[1;31m# type: ignore[attr-defined]\u001b[0m\u001b[1;33m\u001b[0m\u001b[1;33m\u001b[0m\u001b[0m\n",
      "\u001b[1;32m~\\anaconda3\\lib\\site-packages\\polars\\dataframe\\group_by.py\u001b[0m in \u001b[0;36mapply\u001b[1;34m(self, function)\u001b[0m\n\u001b[0;32m    757\u001b[0m \u001b[1;33m\u001b[0m\u001b[0m\n\u001b[0;32m    758\u001b[0m         \"\"\"\n\u001b[1;32m--> 759\u001b[1;33m         \u001b[1;32mreturn\u001b[0m \u001b[0mself\u001b[0m\u001b[1;33m.\u001b[0m\u001b[0mmap_groups\u001b[0m\u001b[1;33m(\u001b[0m\u001b[0mfunction\u001b[0m\u001b[1;33m)\u001b[0m\u001b[1;33m\u001b[0m\u001b[1;33m\u001b[0m\u001b[0m\n\u001b[0m\u001b[0;32m    760\u001b[0m \u001b[1;33m\u001b[0m\u001b[0m\n\u001b[0;32m    761\u001b[0m \u001b[1;33m\u001b[0m\u001b[0m\n",
      "\u001b[1;32m~\\anaconda3\\lib\\site-packages\\polars\\dataframe\\group_by.py\u001b[0m in \u001b[0;36mmap_groups\u001b[1;34m(self, function)\u001b[0m\n\u001b[0;32m    321\u001b[0m \u001b[1;33m\u001b[0m\u001b[0m\n\u001b[0;32m    322\u001b[0m         return self.df.__class__._from_pydf(\n\u001b[1;32m--> 323\u001b[1;33m             \u001b[0mself\u001b[0m\u001b[1;33m.\u001b[0m\u001b[0mdf\u001b[0m\u001b[1;33m.\u001b[0m\u001b[0m_df\u001b[0m\u001b[1;33m.\u001b[0m\u001b[0mgroup_by_map_groups\u001b[0m\u001b[1;33m(\u001b[0m\u001b[0mby\u001b[0m\u001b[1;33m,\u001b[0m \u001b[0mfunction\u001b[0m\u001b[1;33m,\u001b[0m \u001b[0mself\u001b[0m\u001b[1;33m.\u001b[0m\u001b[0mmaintain_order\u001b[0m\u001b[1;33m)\u001b[0m\u001b[1;33m\u001b[0m\u001b[1;33m\u001b[0m\u001b[0m\n\u001b[0m\u001b[0;32m    324\u001b[0m         )\n\u001b[0;32m    325\u001b[0m \u001b[1;33m\u001b[0m\u001b[0m\n",
      "\u001b[1;31mPanicException\u001b[0m: UDF failed: the truth value of a Series is ambiguous\n\nHint: use '&' or '|' to chain Series boolean results together, not and/or. To check if a Series contains any values, use `is_empty()`."
     ]
    }
   ],
   "source": [
    "import polars as pl\n",
    "\n",
    "# Assuming df is your DataFrame\n",
    "\n",
    "def calculate_metrics_for_pairs(data):\n",
    "    # Perform a cross join to create ship pairs\n",
    "    # Note: Adjust 'ship_id' and other relevant columns to your schema\n",
    "    pairs = data.join(data, how=\"cross\", suffix=\"_other\")\n",
    "    \n",
    "    # Calculate distance and other metrics for each pair\n",
    "    # Replace 'calculate_distance' with your actual distance calculation function\n",
    "    pairs = pairs.with_columns([\n",
    "        euclidian_distance(pairs['LON'], pairs['LAT'], pairs['LON_other'], pairs['LAT_other']).alias('distance')\n",
    "        # Add other metrics calculations here\n",
    "    ])\n",
    "    \n",
    "    # Filter pairs based on your criteria, e.g., distance\n",
    "    close_pairs = pairs.filter(pl.col('distance') <= 1)\n",
    "    \n",
    "    # Calculate DCPA, TCPA, etc., for close_pairs and return the result\n",
    "    # This step depends on your specific calculation functions\n",
    "    return close_pairs\n",
    "\n",
    "# Group by 'BaseDateTime' and apply the function\n",
    "result = df.groupby('BaseDateTime').apply(calculate_metrics_for_pairs)\n",
    "\n",
    "# This 'result' DataFrame now contains metrics for ship pairs that meet your criteria within each timestamp group\n"
   ]
  },
  {
   "cell_type": "code",
   "execution_count": 16,
   "id": "c204a926",
   "metadata": {},
   "outputs": [
    {
     "ename": "PanicException",
     "evalue": "UDF failed: the truth value of a Series is ambiguous\n\nHint: use '&' or '|' to chain Series boolean results together, not and/or. To check if a Series contains any values, use `is_empty()`.",
     "output_type": "error",
     "traceback": [
      "\u001b[1;31m---------------------------------------------------------------------------\u001b[0m",
      "\u001b[1;31mPanicException\u001b[0m                            Traceback (most recent call last)",
      "\u001b[1;32m~\\AppData\\Local\\Temp\\ipykernel_16272\\3146317532.py\u001b[0m in \u001b[0;36m<module>\u001b[1;34m\u001b[0m\n\u001b[1;32m----> 1\u001b[1;33m \u001b[0mdf\u001b[0m\u001b[1;33m.\u001b[0m\u001b[0mgroupby\u001b[0m\u001b[1;33m(\u001b[0m\u001b[1;34m'BaseDateTime'\u001b[0m\u001b[1;33m)\u001b[0m\u001b[1;33m.\u001b[0m\u001b[0mapply\u001b[0m\u001b[1;33m(\u001b[0m\u001b[0mcalculate_metrics_for_pairs\u001b[0m\u001b[1;33m)\u001b[0m\u001b[1;33m\u001b[0m\u001b[1;33m\u001b[0m\u001b[0m\n\u001b[0m",
      "\u001b[1;32m~\\anaconda3\\lib\\site-packages\\polars\\utils\\deprecation.py\u001b[0m in \u001b[0;36mwrapper\u001b[1;34m(*args, **kwargs)\u001b[0m\n\u001b[0;32m     59\u001b[0m                 \u001b[0mversion\u001b[0m\u001b[1;33m=\u001b[0m\u001b[0mversion\u001b[0m\u001b[1;33m,\u001b[0m\u001b[1;33m\u001b[0m\u001b[1;33m\u001b[0m\u001b[0m\n\u001b[0;32m     60\u001b[0m             )\n\u001b[1;32m---> 61\u001b[1;33m             \u001b[1;32mreturn\u001b[0m \u001b[0mfunction\u001b[0m\u001b[1;33m(\u001b[0m\u001b[1;33m*\u001b[0m\u001b[0margs\u001b[0m\u001b[1;33m,\u001b[0m \u001b[1;33m**\u001b[0m\u001b[0mkwargs\u001b[0m\u001b[1;33m)\u001b[0m\u001b[1;33m\u001b[0m\u001b[1;33m\u001b[0m\u001b[0m\n\u001b[0m\u001b[0;32m     62\u001b[0m \u001b[1;33m\u001b[0m\u001b[0m\n\u001b[0;32m     63\u001b[0m         \u001b[0mwrapper\u001b[0m\u001b[1;33m.\u001b[0m\u001b[0m__signature__\u001b[0m \u001b[1;33m=\u001b[0m \u001b[0minspect\u001b[0m\u001b[1;33m.\u001b[0m\u001b[0msignature\u001b[0m\u001b[1;33m(\u001b[0m\u001b[0mfunction\u001b[0m\u001b[1;33m)\u001b[0m  \u001b[1;31m# type: ignore[attr-defined]\u001b[0m\u001b[1;33m\u001b[0m\u001b[1;33m\u001b[0m\u001b[0m\n",
      "\u001b[1;32m~\\anaconda3\\lib\\site-packages\\polars\\dataframe\\group_by.py\u001b[0m in \u001b[0;36mapply\u001b[1;34m(self, function)\u001b[0m\n\u001b[0;32m    757\u001b[0m \u001b[1;33m\u001b[0m\u001b[0m\n\u001b[0;32m    758\u001b[0m         \"\"\"\n\u001b[1;32m--> 759\u001b[1;33m         \u001b[1;32mreturn\u001b[0m \u001b[0mself\u001b[0m\u001b[1;33m.\u001b[0m\u001b[0mmap_groups\u001b[0m\u001b[1;33m(\u001b[0m\u001b[0mfunction\u001b[0m\u001b[1;33m)\u001b[0m\u001b[1;33m\u001b[0m\u001b[1;33m\u001b[0m\u001b[0m\n\u001b[0m\u001b[0;32m    760\u001b[0m \u001b[1;33m\u001b[0m\u001b[0m\n\u001b[0;32m    761\u001b[0m \u001b[1;33m\u001b[0m\u001b[0m\n",
      "\u001b[1;32m~\\anaconda3\\lib\\site-packages\\polars\\dataframe\\group_by.py\u001b[0m in \u001b[0;36mmap_groups\u001b[1;34m(self, function)\u001b[0m\n\u001b[0;32m    321\u001b[0m \u001b[1;33m\u001b[0m\u001b[0m\n\u001b[0;32m    322\u001b[0m         return self.df.__class__._from_pydf(\n\u001b[1;32m--> 323\u001b[1;33m             \u001b[0mself\u001b[0m\u001b[1;33m.\u001b[0m\u001b[0mdf\u001b[0m\u001b[1;33m.\u001b[0m\u001b[0m_df\u001b[0m\u001b[1;33m.\u001b[0m\u001b[0mgroup_by_map_groups\u001b[0m\u001b[1;33m(\u001b[0m\u001b[0mby\u001b[0m\u001b[1;33m,\u001b[0m \u001b[0mfunction\u001b[0m\u001b[1;33m,\u001b[0m \u001b[0mself\u001b[0m\u001b[1;33m.\u001b[0m\u001b[0mmaintain_order\u001b[0m\u001b[1;33m)\u001b[0m\u001b[1;33m\u001b[0m\u001b[1;33m\u001b[0m\u001b[0m\n\u001b[0m\u001b[0;32m    324\u001b[0m         )\n\u001b[0;32m    325\u001b[0m \u001b[1;33m\u001b[0m\u001b[0m\n",
      "\u001b[1;31mPanicException\u001b[0m: UDF failed: the truth value of a Series is ambiguous\n\nHint: use '&' or '|' to chain Series boolean results together, not and/or. To check if a Series contains any values, use `is_empty()`."
     ]
    }
   ],
   "source": [
    "df.groupby('BaseDateTime').apply(calculate_metrics_for_pairs)"
   ]
  },
  {
   "cell_type": "code",
   "execution_count": 17,
   "id": "de361dc9",
   "metadata": {},
   "outputs": [
    {
     "ename": "SyntaxError",
     "evalue": "positional argument follows keyword argument (1151808070.py, line 12)",
     "output_type": "error",
     "traceback": [
      "\u001b[1;36m  File \u001b[1;32m\"C:\\Users\\saadm\\AppData\\Local\\Temp\\ipykernel_16272\\1151808070.py\"\u001b[1;36m, line \u001b[1;32m12\u001b[0m\n\u001b[1;33m    pairs = temp_df.join(temp_df, how='cross', suffix-'_other')\u001b[0m\n\u001b[1;37m                                                              ^\u001b[0m\n\u001b[1;31mSyntaxError\u001b[0m\u001b[1;31m:\u001b[0m positional argument follows keyword argument\n"
     ]
    }
   ],
   "source": [
    "'''\n",
    "This time we wont do much complicated thing as before \n",
    "(for a unique trajectory checek other ships sailing cole by at each time stamp) this what we were doing last time to check encounters \n",
    "Now It will be little simpler for each time stamp check encounters thats it.\n",
    "'''\n",
    "\n",
    "store = []\n",
    "for i in range(df['BaseDateTime'].n_unique()):               # For a unique timestamp\n",
    "    time_stamp = df['BaseDateTime'].unique()[i]\n",
    "    temp_df = df.filter(pl.col('BaseDateTime') == time_stamp)    \n",
    "    \n",
    "    pairs = temp_df.join(temp_df, how='cross', suffix-'_other')\n",
    "    \n",
    "    pairs = pairs.with_columns([\n",
    "        euclidian_distance(pairs['LON'], pairs['LAT'], pairs['LON_other'], pairs['LAT_other']).alias('distance')\n",
    "    ])\n",
    "    \n",
    "    close_pairs = pairs.filter(pl.col('distance') <= 1)\n",
    "    \n",
    "    \n",
    "\n",
    "    for j in range(temp_df.shape[0]):\n",
    "        self_ship = temp_df[j]\n",
    "        for k in range(j + 1, temp_df.shape[0]):\n",
    "            target_ship = temp_df[k]\n",
    "            \n",
    "            x1, y1 = self_ship['LON'][0], self_ship['LAT'][0]\n",
    "            x2, y2 = target_ship['LON'][0], target_ship['LAT'][0]\n",
    "            R = euclidian_distance(x1, y1, x2, y2)/1000                 # distance between 2 ships in Kms\n",
    "            \n",
    "            if R <= 1:            # Mark the ship as encountering\n",
    "                \n",
    "                X_R, V_R = relative_velocity(self_ship['SOG'][0], self_ship['COG'][0], target_ship['SOG'][0], target_ship['COG'][0])\n",
    "                X_os = radians(self_ship['COG'][0])\n",
    "                theta_t = calculate_true_bearing(x1, y1, x2, y2, X_os)\n",
    "\n",
    "                DCPA = R * sin((X_R - X_os - theta_t) - np.pi)\n",
    "                TCPA = R * cos((X_R - X_os - theta_t) - np.pi) / V_R\n",
    "                \n",
    "                store.append(self_ship['Index'][0], target_ship['Index'][0], TCPA, DCPA)"
   ]
  },
  {
   "cell_type": "code",
   "execution_count": 69,
   "id": "f46b9540",
   "metadata": {},
   "outputs": [
    {
     "data": {
      "text/plain": [
       "1611"
      ]
     },
     "execution_count": 69,
     "metadata": {},
     "output_type": "execute_result"
    }
   ],
   "source": [
    "df.filter(pl.col('TCPA') > 0).n_unique()"
   ]
  },
  {
   "cell_type": "code",
   "execution_count": 70,
   "id": "76f6e3f4",
   "metadata": {},
   "outputs": [
    {
     "data": {
      "text/plain": [
       "2547"
      ]
     },
     "execution_count": 70,
     "metadata": {},
     "output_type": "execute_result"
    }
   ],
   "source": [
    "df.filter(pl.col('Encountering') > 0).n_unique()"
   ]
  },
  {
   "cell_type": "code",
   "execution_count": 69,
   "id": "1ebb0932",
   "metadata": {},
   "outputs": [
    {
     "data": {
      "text/html": [
       "<div><style>\n",
       ".dataframe > thead > tr,\n",
       ".dataframe > tbody > tr {\n",
       "  text-align: right;\n",
       "  white-space: pre-wrap;\n",
       "}\n",
       "</style>\n",
       "<small>shape: (1, 15)</small><table border=\"1\" class=\"dataframe\"><thead><tr><th>Index</th><th></th><th>BaseDateTime</th><th>MMSI</th><th>LAT</th><th>LON</th><th>SOG</th><th>COG</th><th>Navigation_sequence</th><th>i</th><th>j</th><th>Encountering</th><th>Conflicting</th><th>TCPA</th><th>DCPA</th></tr><tr><td>u32</td><td>i64</td><td>datetime[μs]</td><td>f64</td><td>f64</td><td>f64</td><td>f64</td><td>f64</td><td>i64</td><td>f64</td><td>f64</td><td>i32</td><td>i32</td><td>i32</td><td>i32</td></tr></thead><tbody><tr><td>282957</td><td>282957</td><td>2021-01-20 15:00:00</td><td>3.38084457e8</td><td>26.09543</td><td>-80.11679</td><td>4.7</td><td>328.3</td><td>296</td><td>6.0</td><td>2.0</td><td>7</td><td>0</td><td>0</td><td>0</td></tr></tbody></table></div>"
      ],
      "text/plain": [
       "shape: (1, 15)\n",
       "┌────────┬────────┬─────────────────────┬──────────────┬───┬──────────────┬─────────────┬──────┬──────┐\n",
       "│ Index  ┆        ┆ BaseDateTime        ┆ MMSI         ┆ … ┆ Encountering ┆ Conflicting ┆ TCPA ┆ DCPA │\n",
       "│ ---    ┆ ---    ┆ ---                 ┆ ---          ┆   ┆ ---          ┆ ---         ┆ ---  ┆ ---  │\n",
       "│ u32    ┆ i64    ┆ datetime[μs]        ┆ f64          ┆   ┆ i32          ┆ i32         ┆ i32  ┆ i32  │\n",
       "╞════════╪════════╪═════════════════════╪══════════════╪═══╪══════════════╪═════════════╪══════╪══════╡\n",
       "│ 282957 ┆ 282957 ┆ 2021-01-20 15:00:00 ┆ 3.38084457e8 ┆ … ┆ 7            ┆ 0           ┆ 0    ┆ 0    │\n",
       "└────────┴────────┴─────────────────────┴──────────────┴───┴──────────────┴─────────────┴──────┴──────┘"
      ]
     },
     "execution_count": 69,
     "metadata": {},
     "output_type": "execute_result"
    }
   ],
   "source": [
    "time_stamp = enc_df['BaseDateTime'].unique()[10]\n",
    "temp_df = enc_df.filter(pl.col('BaseDateTime') == time_stamp)\n",
    "temp_df"
   ]
  },
  {
   "cell_type": "code",
   "execution_count": null,
   "id": "aa82355b",
   "metadata": {},
   "outputs": [],
   "source": [
    "for sequence in resampled_data['Navigation_sequence'].unique():\n",
    "    \n",
    "    navi_df = resampled_data[resampled_data['Navigation_sequence'] == sequence]\n",
    "    \n",
    "    for timestamp in navi_df['BaseDateTime'][::3]:\n",
    "        self_ship = navi_df[navi_df['BaseDateTime'] == timestamp]\n",
    "        time_df = resampled_data[resampled_data['BaseDateTime'] == timestamp]\n",
    "        i,j = self_ship['i'], self_ship['j']\n",
    "        time_df['i'] -= float(i)\n",
    "        time_df['j'] -= float(j)\n",
    "        \n",
    "        # filtering data to just small 3x3 grid surrounding our ship with ship in middel on grid\n",
    "        filtered_df = time_df[(time_df['i'].abs() <= 1) & (time_df['j'].abs() <= 1)]\n",
    "        filtered_df = filtered_df.drop(self_ship.index)\n",
    "\n",
    "        for mmsi in filtered_df['MMSI']:\n",
    "            target_ship = filtered_df[filtered_df['MMSI'] == mmsi]\n",
    "            c1 = (self_ship['LAT'].iloc[0], self_ship['LON'].iloc[0])\n",
    "            c2 = (target_ship['LAT'].iloc[0], target_ship['LON'].iloc[0])\n",
    "            dist = euclidian_distance(c1, c2)/1000        # calculating distance between self and target ship\n",
    "            \n",
    "            # check if Within the circle of observation of self ship\n",
    "            if dist <= 1 :        \n",
    "                resampled_data.loc[self_ship.index, 'Encountering'] = 1\n",
    "                resampled_data.loc[target_ship.index, 'Encountering'] = 1\n",
    "                \n",
    "                # check for conflict\n",
    "                # How ?? \n",
    "                Vs_x = self_ship['SOG'].iloc[0]*np.cos(np.radians(self_ship['COG'].iloc[0]))\n",
    "                Vs_y = self_ship['SOG'].iloc[0]*np.sin(np.radians(self_ship['COG'].iloc[0]))\n",
    "                \n",
    "                Vt_x = target_ship['SOG'].iloc[0]*np.cos(np.radians(target_ship['COG'].iloc[0]))\n",
    "                Vt_y = target_ship['SOG'].iloc[0]*np.sin(np.radians(target_ship['COG'].iloc[0]))\n",
    "                \n",
    "                Xs, Ys = convert_to_xy(self_ship['LAT'].iloc[0], self_ship['LON'].iloc[0])\n",
    "                Xt, Yt = convert_to_xy(target_ship['LAT'].iloc[0], target_ship['LON'].iloc[0])      # x and will be in meters\n",
    "                \n",
    "                dist_next = np.sqrt((Xs + Vs_x*0.5144/60 - Xt - Vt_x*0.5144/60)**2 + (Ys + Vs_y*0.5144/60 - Yt - Vt_y*0.5144/60)**2)\n",
    "\n",
    "                TCA = -1*((Xs - Xt)*(Vs_x - Vt_x) + (Ys - Yt)*(Vs_y - Vt_y)) / (Vs_x - Vt_x)**2 + (Vs_y - Vt_y)**2\n",
    "                \n",
    "                if TCA > 0 and dist_next < 1 :\n",
    "                    resampled_data.loc[self_ship.index, 'Conflicting'] = 1\n",
    "                    resampled_data.loc[target_ship.index, 'Conflicting'] = 1"
   ]
  },
  {
   "cell_type": "markdown",
   "id": "2d578150",
   "metadata": {},
   "source": [
    "## Some one time processing for modifying data"
   ]
  },
  {
   "cell_type": "code",
   "execution_count": 2,
   "id": "062f091b",
   "metadata": {},
   "outputs": [],
   "source": [
    "df = pl.read_csv('100lenTraj.csv')\n",
    "\n",
    "df = df.with_columns(\n",
    "    pl.col('BaseDateTime')\n",
    "    .str.to_datetime('%Y-%m-%d %H:%M:%S')\n",
    ")"
   ]
  },
  {
   "cell_type": "code",
   "execution_count": 3,
   "id": "605f3bd7",
   "metadata": {},
   "outputs": [
    {
     "data": {
      "text/plain": [
       "((693295, 9), polars.dataframe.frame.DataFrame)"
      ]
     },
     "execution_count": 3,
     "metadata": {},
     "output_type": "execute_result"
    }
   ],
   "source": [
    "df.shape, type(df)"
   ]
  },
  {
   "cell_type": "code",
   "execution_count": 4,
   "id": "ce7304ac",
   "metadata": {},
   "outputs": [
    {
     "data": {
      "text/html": [
       "<div><style>\n",
       ".dataframe > thead > tr,\n",
       ".dataframe > tbody > tr {\n",
       "  text-align: right;\n",
       "  white-space: pre-wrap;\n",
       "}\n",
       "</style>\n",
       "<small>shape: (5, 9)</small><table border=\"1\" class=\"dataframe\"><thead><tr><th>BaseDateTime</th><th>MMSI</th><th>LAT</th><th>LON</th><th>SOG</th><th>COG</th><th>Navigation_sequence</th><th>i</th><th>j</th></tr><tr><td>datetime[μs]</td><td>i64</td><td>f64</td><td>f64</td><td>f64</td><td>f64</td><td>i64</td><td>f64</td><td>f64</td></tr></thead><tbody><tr><td>2021-01-01 02:21:38</td><td>745180</td><td>26.0371</td><td>-80.11735</td><td>7.3</td><td>3.5</td><td>1</td><td>0.0</td><td>2.0</td></tr><tr><td>2021-01-01 02:22:54</td><td>745180</td><td>26.03947</td><td>-80.11685</td><td>7.9</td><td>9.2</td><td>1</td><td>0.0</td><td>2.0</td></tr><tr><td>2021-01-01 02:24:03</td><td>745180</td><td>26.04155</td><td>-80.11638</td><td>6.2</td><td>12.3</td><td>1</td><td>0.0</td><td>2.0</td></tr><tr><td>2021-01-01 02:25:14</td><td>745180</td><td>26.04373</td><td>-80.11584</td><td>5.6</td><td>9.7</td><td>1</td><td>0.0</td><td>3.0</td></tr><tr><td>2021-01-01 02:26:23</td><td>745180</td><td>26.04484</td><td>-80.11564</td><td>3.0</td><td>8.6</td><td>1</td><td>1.0</td><td>3.0</td></tr></tbody></table></div>"
      ],
      "text/plain": [
       "shape: (5, 9)\n",
       "┌─────────────────────┬────────┬──────────┬───────────┬───┬──────┬─────────────────────┬─────┬─────┐\n",
       "│ BaseDateTime        ┆ MMSI   ┆ LAT      ┆ LON       ┆ … ┆ COG  ┆ Navigation_sequence ┆ i   ┆ j   │\n",
       "│ ---                 ┆ ---    ┆ ---      ┆ ---       ┆   ┆ ---  ┆ ---                 ┆ --- ┆ --- │\n",
       "│ datetime[μs]        ┆ i64    ┆ f64      ┆ f64       ┆   ┆ f64  ┆ i64                 ┆ f64 ┆ f64 │\n",
       "╞═════════════════════╪════════╪══════════╪═══════════╪═══╪══════╪═════════════════════╪═════╪═════╡\n",
       "│ 2021-01-01 02:21:38 ┆ 745180 ┆ 26.0371  ┆ -80.11735 ┆ … ┆ 3.5  ┆ 1                   ┆ 0.0 ┆ 2.0 │\n",
       "│ 2021-01-01 02:22:54 ┆ 745180 ┆ 26.03947 ┆ -80.11685 ┆ … ┆ 9.2  ┆ 1                   ┆ 0.0 ┆ 2.0 │\n",
       "│ 2021-01-01 02:24:03 ┆ 745180 ┆ 26.04155 ┆ -80.11638 ┆ … ┆ 12.3 ┆ 1                   ┆ 0.0 ┆ 2.0 │\n",
       "│ 2021-01-01 02:25:14 ┆ 745180 ┆ 26.04373 ┆ -80.11584 ┆ … ┆ 9.7  ┆ 1                   ┆ 0.0 ┆ 3.0 │\n",
       "│ 2021-01-01 02:26:23 ┆ 745180 ┆ 26.04484 ┆ -80.11564 ┆ … ┆ 8.6  ┆ 1                   ┆ 1.0 ┆ 3.0 │\n",
       "└─────────────────────┴────────┴──────────┴───────────┴───┴──────┴─────────────────────┴─────┴─────┘"
      ]
     },
     "execution_count": 4,
     "metadata": {},
     "output_type": "execute_result"
    }
   ],
   "source": [
    "df.head()"
   ]
  },
  {
   "cell_type": "code",
   "execution_count": 5,
   "id": "5a2e908b",
   "metadata": {
    "scrolled": true
   },
   "outputs": [],
   "source": [
    "# chceck the faluty sequence\n",
    "# the faulty sequence has large time span but has only few data points\n",
    "# according to COLREGs if ship is anchored it will give reading in every 3 min \n",
    "# so if for any seq dt/n_data_pts > 3 min we assume it to be faulty and we drop it\n",
    "\n",
    "error_sequence = []\n",
    "for seq in df['Navigation_sequence'].unique():\n",
    "    temp_df = df.filter(pl.col('Navigation_sequence') == seq)\n",
    "    no_dpts = temp_df.shape[0]\n",
    "    dt = (temp_df['BaseDateTime'].max() - temp_df['BaseDateTime'].min()).total_seconds()/60\n",
    "    if dt/no_dpts >= 6:\n",
    "        error_sequence.append(seq)"
   ]
  },
  {
   "cell_type": "code",
   "execution_count": 6,
   "id": "6aaa4fb9",
   "metadata": {},
   "outputs": [
    {
     "data": {
      "text/plain": [
       "2167"
      ]
     },
     "execution_count": 6,
     "metadata": {},
     "output_type": "execute_result"
    }
   ],
   "source": [
    "# if we keep dt/npts limt to 4\n",
    "    # so we found around 2250 unique navigation sequence to have some fault. \n",
    "    # these seq account for 372939 datapoints in AIS data which is 46% of total datapoints and 990 MMSI\n",
    "    # we cant directly drop them\n",
    "# if lmt is 6\n",
    "\n",
    "\n",
    "len(error_sequence)"
   ]
  },
  {
   "cell_type": "code",
   "execution_count": 7,
   "id": "960f72f4",
   "metadata": {
    "collapsed": true
   },
   "outputs": [
    {
     "data": {
      "text/html": [
       "<div><style>\n",
       ".dataframe > thead > tr,\n",
       ".dataframe > tbody > tr {\n",
       "  text-align: right;\n",
       "  white-space: pre-wrap;\n",
       "}\n",
       "</style>\n",
       "<small>shape: (147, 9)</small><table border=\"1\" class=\"dataframe\"><thead><tr><th>BaseDateTime</th><th>MMSI</th><th>LAT</th><th>LON</th><th>SOG</th><th>COG</th><th>Navigation_sequence</th><th>i</th><th>j</th></tr><tr><td>datetime[μs]</td><td>i64</td><td>f64</td><td>f64</td><td>f64</td><td>f64</td><td>i64</td><td>f64</td><td>f64</td></tr></thead><tbody><tr><td>2021-03-05 12:48:07</td><td>209470000</td><td>26.07003</td><td>-80.11542</td><td>0.0</td><td>245.4</td><td>4</td><td>3.0</td><td>3.0</td></tr><tr><td>2021-03-05 12:51:07</td><td>209470000</td><td>26.07035</td><td>-80.11515</td><td>1.2</td><td>15.9</td><td>4</td><td>3.0</td><td>3.0</td></tr><tr><td>2021-03-05 12:54:09</td><td>209470000</td><td>26.07207</td><td>-80.1149</td><td>2.9</td><td>5.9</td><td>4</td><td>4.0</td><td>3.0</td></tr><tr><td>2021-03-05 12:55:15</td><td>209470000</td><td>26.07302</td><td>-80.1148</td><td>3.3</td><td>5.1</td><td>4</td><td>4.0</td><td>3.0</td></tr><tr><td>2021-03-05 12:56:24</td><td>209470000</td><td>26.0741</td><td>-80.1147</td><td>3.5</td><td>4.4</td><td>4</td><td>4.0</td><td>3.0</td></tr><tr><td>2021-03-05 12:57:36</td><td>209470000</td><td>26.07527</td><td>-80.11463</td><td>3.6</td><td>1.5</td><td>4</td><td>4.0</td><td>3.0</td></tr><tr><td>2021-03-05 12:58:46</td><td>209470000</td><td>26.07643</td><td>-80.11462</td><td>3.6</td><td>359.8</td><td>4</td><td>4.0</td><td>3.0</td></tr><tr><td>2021-03-05 12:59:55</td><td>209470000</td><td>26.07758</td><td>-80.11457</td><td>3.6</td><td>3.8</td><td>4</td><td>4.0</td><td>3.0</td></tr><tr><td>2021-03-05 13:00:06</td><td>209470000</td><td>26.07778</td><td>-80.11457</td><td>3.6</td><td>3.9</td><td>4</td><td>4.0</td><td>3.0</td></tr><tr><td>2021-03-05 13:01:15</td><td>209470000</td><td>26.07892</td><td>-80.11448</td><td>3.5</td><td>2.2</td><td>4</td><td>4.0</td><td>3.0</td></tr><tr><td>2021-03-05 13:02:26</td><td>209470000</td><td>26.08007</td><td>-80.11445</td><td>3.5</td><td>1.6</td><td>4</td><td>4.0</td><td>3.0</td></tr><tr><td>2021-03-05 13:03:36</td><td>209470000</td><td>26.08125</td><td>-80.11438</td><td>3.6</td><td>5.3</td><td>4</td><td>5.0</td><td>3.0</td></tr><tr><td>&hellip;</td><td>&hellip;</td><td>&hellip;</td><td>&hellip;</td><td>&hellip;</td><td>&hellip;</td><td>&hellip;</td><td>&hellip;</td><td>&hellip;</td></tr><tr><td>2021-05-17 17:51:08</td><td>209470000</td><td>26.07223</td><td>-80.1149</td><td>2.2</td><td>182.4</td><td>4</td><td>4.0</td><td>3.0</td></tr><tr><td>2021-05-17 17:52:18</td><td>209470000</td><td>26.07155</td><td>-80.11493</td><td>2.0</td><td>182.7</td><td>4</td><td>3.0</td><td>3.0</td></tr><tr><td>2021-05-17 17:53:28</td><td>209470000</td><td>26.07098</td><td>-80.11498</td><td>1.5</td><td>185.6</td><td>4</td><td>3.0</td><td>3.0</td></tr><tr><td>2021-05-17 17:54:37</td><td>209470000</td><td>26.07053</td><td>-80.11507</td><td>1.3</td><td>191.8</td><td>4</td><td>3.0</td><td>3.0</td></tr><tr><td>2021-05-17 17:55:49</td><td>209470000</td><td>26.07027</td><td>-80.11515</td><td>0.7</td><td>199.8</td><td>4</td><td>3.0</td><td>3.0</td></tr><tr><td>2021-05-17 17:56:59</td><td>209470000</td><td>26.07007</td><td>-80.11527</td><td>0.5</td><td>206.7</td><td>4</td><td>3.0</td><td>3.0</td></tr><tr><td>2021-05-17 17:58:09</td><td>209470000</td><td>26.07</td><td>-80.1153</td><td>0.2</td><td>230.5</td><td>4</td><td>3.0</td><td>3.0</td></tr><tr><td>2021-05-17 17:59:19</td><td>209470000</td><td>26.06998</td><td>-80.11533</td><td>0.3</td><td>251.3</td><td>4</td><td>3.0</td><td>3.0</td></tr><tr><td>2021-05-17 18:00:08</td><td>209470000</td><td>26.06998</td><td>-80.1154</td><td>0.2</td><td>240.6</td><td>4</td><td>3.0</td><td>3.0</td></tr><tr><td>2021-05-17 18:01:17</td><td>209470000</td><td>26.06997</td><td>-80.1154</td><td>0.1</td><td>117.1</td><td>4</td><td>3.0</td><td>3.0</td></tr><tr><td>2021-05-17 18:02:29</td><td>209470000</td><td>26.06993</td><td>-80.11542</td><td>0.1</td><td>116.8</td><td>4</td><td>3.0</td><td>3.0</td></tr><tr><td>2021-05-17 18:03:39</td><td>209470000</td><td>26.06997</td><td>-80.11542</td><td>0.2</td><td>116.8</td><td>4</td><td>3.0</td><td>3.0</td></tr></tbody></table></div>"
      ],
      "text/plain": [
       "shape: (147, 9)\n",
       "┌─────────────────────┬───────────┬──────────┬───────────┬───┬───────┬─────────────────────┬─────┬─────┐\n",
       "│ BaseDateTime        ┆ MMSI      ┆ LAT      ┆ LON       ┆ … ┆ COG   ┆ Navigation_sequence ┆ i   ┆ j   │\n",
       "│ ---                 ┆ ---       ┆ ---      ┆ ---       ┆   ┆ ---   ┆ ---                 ┆ --- ┆ --- │\n",
       "│ datetime[μs]        ┆ i64       ┆ f64      ┆ f64       ┆   ┆ f64   ┆ i64                 ┆ f64 ┆ f64 │\n",
       "╞═════════════════════╪═══════════╪══════════╪═══════════╪═══╪═══════╪═════════════════════╪═════╪═════╡\n",
       "│ 2021-03-05 12:48:07 ┆ 209470000 ┆ 26.07003 ┆ -80.11542 ┆ … ┆ 245.4 ┆ 4                   ┆ 3.0 ┆ 3.0 │\n",
       "│ 2021-03-05 12:51:07 ┆ 209470000 ┆ 26.07035 ┆ -80.11515 ┆ … ┆ 15.9  ┆ 4                   ┆ 3.0 ┆ 3.0 │\n",
       "│ 2021-03-05 12:54:09 ┆ 209470000 ┆ 26.07207 ┆ -80.1149  ┆ … ┆ 5.9   ┆ 4                   ┆ 4.0 ┆ 3.0 │\n",
       "│ 2021-03-05 12:55:15 ┆ 209470000 ┆ 26.07302 ┆ -80.1148  ┆ … ┆ 5.1   ┆ 4                   ┆ 4.0 ┆ 3.0 │\n",
       "│ …                   ┆ …         ┆ …        ┆ …         ┆ … ┆ …     ┆ …                   ┆ …   ┆ …   │\n",
       "│ 2021-05-17 18:00:08 ┆ 209470000 ┆ 26.06998 ┆ -80.1154  ┆ … ┆ 240.6 ┆ 4                   ┆ 3.0 ┆ 3.0 │\n",
       "│ 2021-05-17 18:01:17 ┆ 209470000 ┆ 26.06997 ┆ -80.1154  ┆ … ┆ 117.1 ┆ 4                   ┆ 3.0 ┆ 3.0 │\n",
       "│ 2021-05-17 18:02:29 ┆ 209470000 ┆ 26.06993 ┆ -80.11542 ┆ … ┆ 116.8 ┆ 4                   ┆ 3.0 ┆ 3.0 │\n",
       "│ 2021-05-17 18:03:39 ┆ 209470000 ┆ 26.06997 ┆ -80.11542 ┆ … ┆ 116.8 ┆ 4                   ┆ 3.0 ┆ 3.0 │\n",
       "└─────────────────────┴───────────┴──────────┴───────────┴───┴───────┴─────────────────────┴─────┴─────┘"
      ]
     },
     "execution_count": 7,
     "metadata": {},
     "output_type": "execute_result"
    }
   ],
   "source": [
    "df.filter(pl.col('Navigation_sequence') == error_sequence[1])"
   ]
  },
  {
   "cell_type": "code",
   "execution_count": 7,
   "id": "37a3f599",
   "metadata": {},
   "outputs": [],
   "source": [
    "df = df.filter(~pl.col('Navigation_sequence').is_in(error_sequence))"
   ]
  },
  {
   "cell_type": "code",
   "execution_count": 8,
   "id": "7176be66",
   "metadata": {},
   "outputs": [],
   "source": [
    "# Dropping the sequences which have more than 50 SOG which is abnormal arounud 25 such seq are there comprising 25K datapoints\n",
    "mask = df.filter(pl.col('SOG') > 50)['Navigation_sequence'].unique()\n",
    "df = df.filter(~pl.col('Navigation_sequence').is_in(mask))"
   ]
  },
  {
   "cell_type": "code",
   "execution_count": 9,
   "id": "76fc0e74",
   "metadata": {
    "collapsed": true
   },
   "outputs": [
    {
     "data": {
      "text/html": [
       "<div><style>\n",
       ".dataframe > thead > tr,\n",
       ".dataframe > tbody > tr {\n",
       "  text-align: right;\n",
       "  white-space: pre-wrap;\n",
       "}\n",
       "</style>\n",
       "<small>shape: (309_414, 9)</small><table border=\"1\" class=\"dataframe\"><thead><tr><th>BaseDateTime</th><th>MMSI</th><th>LAT</th><th>LON</th><th>SOG</th><th>COG</th><th>Navigation_sequence</th><th>i</th><th>j</th></tr><tr><td>datetime[μs]</td><td>i64</td><td>f64</td><td>f64</td><td>f64</td><td>f64</td><td>i64</td><td>f64</td><td>f64</td></tr></thead><tbody><tr><td>2021-02-27 12:52:20</td><td>205553000</td><td>26.10166</td><td>-80.00492</td><td>6.5</td><td>329.0</td><td>2</td><td>7.0</td><td>15.0</td></tr><tr><td>2021-02-27 12:53:29</td><td>205553000</td><td>26.10342</td><td>-80.00615</td><td>6.5</td><td>328.0</td><td>2</td><td>7.0</td><td>15.0</td></tr><tr><td>2021-02-27 12:54:40</td><td>205553000</td><td>26.10527</td><td>-80.00736</td><td>6.5</td><td>328.1</td><td>2</td><td>7.0</td><td>15.0</td></tr><tr><td>2021-02-27 12:55:50</td><td>205553000</td><td>26.10697</td><td>-80.00869</td><td>6.2</td><td>321.0</td><td>2</td><td>7.0</td><td>14.0</td></tr><tr><td>2021-02-27 12:57:00</td><td>205553000</td><td>26.1085</td><td>-80.01017</td><td>6.3</td><td>317.0</td><td>2</td><td>8.0</td><td>14.0</td></tr><tr><td>2021-02-27 12:58:20</td><td>205553000</td><td>26.11015</td><td>-80.01196</td><td>6.2</td><td>315.0</td><td>2</td><td>8.0</td><td>14.0</td></tr><tr><td>2021-02-27 12:59:29</td><td>205553000</td><td>26.11153</td><td>-80.01354</td><td>6.2</td><td>314.0</td><td>2</td><td>8.0</td><td>14.0</td></tr><tr><td>2021-02-27 13:00:10</td><td>205553000</td><td>26.11231</td><td>-80.01447</td><td>6.2</td><td>312.0</td><td>2</td><td>8.0</td><td>14.0</td></tr><tr><td>2021-02-27 13:01:19</td><td>205553000</td><td>26.11367</td><td>-80.01608</td><td>6.2</td><td>315.0</td><td>2</td><td>8.0</td><td>14.0</td></tr><tr><td>2021-02-27 13:02:29</td><td>205553000</td><td>26.11508</td><td>-80.01774</td><td>6.2</td><td>313.0</td><td>2</td><td>8.0</td><td>13.0</td></tr><tr><td>2021-02-27 13:03:40</td><td>205553000</td><td>26.11649</td><td>-80.01939</td><td>6.3</td><td>313.0</td><td>2</td><td>8.0</td><td>13.0</td></tr><tr><td>2021-02-27 13:04:50</td><td>205553000</td><td>26.11791</td><td>-80.02104</td><td>6.3</td><td>314.0</td><td>2</td><td>9.0</td><td>13.0</td></tr><tr><td>&hellip;</td><td>&hellip;</td><td>&hellip;</td><td>&hellip;</td><td>&hellip;</td><td>&hellip;</td><td>&hellip;</td><td>&hellip;</td><td>&hellip;</td></tr><tr><td>2021-01-30 20:29:53</td><td>985380125</td><td>26.07509</td><td>-80.11489</td><td>5.0</td><td>180.5</td><td>4039</td><td>4.0</td><td>3.0</td></tr><tr><td>2021-01-30 20:31:23</td><td>985380125</td><td>26.07295</td><td>-80.11489</td><td>5.1</td><td>180.3</td><td>4039</td><td>4.0</td><td>3.0</td></tr><tr><td>2021-01-30 20:32:53</td><td>985380125</td><td>26.07077</td><td>-80.11471</td><td>5.2</td><td>179.5</td><td>4039</td><td>3.0</td><td>3.0</td></tr><tr><td>2021-01-30 20:34:23</td><td>985380125</td><td>26.06841</td><td>-80.11477</td><td>6.3</td><td>182.0</td><td>4039</td><td>3.0</td><td>3.0</td></tr><tr><td>2021-01-30 20:35:53</td><td>985380125</td><td>26.06575</td><td>-80.11493</td><td>6.3</td><td>187.1</td><td>4039</td><td>3.0</td><td>3.0</td></tr><tr><td>2021-01-30 20:37:23</td><td>985380125</td><td>26.06427</td><td>-80.11701</td><td>6.2</td><td>248.0</td><td>4039</td><td>3.0</td><td>2.0</td></tr><tr><td>2021-01-30 20:39:23</td><td>985380125</td><td>26.06297</td><td>-80.12059</td><td>6.3</td><td>244.4</td><td>4039</td><td>3.0</td><td>2.0</td></tr><tr><td>2021-01-30 20:41:23</td><td>985380125</td><td>26.06177</td><td>-80.12386</td><td>6.2</td><td>245.2</td><td>4039</td><td>2.0</td><td>2.0</td></tr><tr><td>2021-01-30 20:43:52</td><td>985380125</td><td>26.06027</td><td>-80.1281</td><td>6.3</td><td>258.8</td><td>4039</td><td>2.0</td><td>1.0</td></tr><tr><td>2021-01-30 20:44:54</td><td>985380125</td><td>26.05998</td><td>-80.12995</td><td>5.9</td><td>262.2</td><td>4039</td><td>2.0</td><td>1.0</td></tr><tr><td>2021-01-30 20:46:25</td><td>985380125</td><td>26.06018</td><td>-80.13224</td><td>2.9</td><td>321.7</td><td>4039</td><td>2.0</td><td>1.0</td></tr><tr><td>2021-01-30 20:48:53</td><td>985380125</td><td>26.06063</td><td>-80.13228</td><td>0.2</td><td>360.0</td><td>4039</td><td>2.0</td><td>1.0</td></tr></tbody></table></div>"
      ],
      "text/plain": [
       "shape: (309_414, 9)\n",
       "┌─────────────────────┬───────────┬──────────┬───────────┬───┬───────┬─────────────────────┬─────┬──────┐\n",
       "│ BaseDateTime        ┆ MMSI      ┆ LAT      ┆ LON       ┆ … ┆ COG   ┆ Navigation_sequence ┆ i   ┆ j    │\n",
       "│ ---                 ┆ ---       ┆ ---      ┆ ---       ┆   ┆ ---   ┆ ---                 ┆ --- ┆ ---  │\n",
       "│ datetime[μs]        ┆ i64       ┆ f64      ┆ f64       ┆   ┆ f64   ┆ i64                 ┆ f64 ┆ f64  │\n",
       "╞═════════════════════╪═══════════╪══════════╪═══════════╪═══╪═══════╪═════════════════════╪═════╪══════╡\n",
       "│ 2021-02-27 12:52:20 ┆ 205553000 ┆ 26.10166 ┆ -80.00492 ┆ … ┆ 329.0 ┆ 2                   ┆ 7.0 ┆ 15.0 │\n",
       "│ 2021-02-27 12:53:29 ┆ 205553000 ┆ 26.10342 ┆ -80.00615 ┆ … ┆ 328.0 ┆ 2                   ┆ 7.0 ┆ 15.0 │\n",
       "│ 2021-02-27 12:54:40 ┆ 205553000 ┆ 26.10527 ┆ -80.00736 ┆ … ┆ 328.1 ┆ 2                   ┆ 7.0 ┆ 15.0 │\n",
       "│ 2021-02-27 12:55:50 ┆ 205553000 ┆ 26.10697 ┆ -80.00869 ┆ … ┆ 321.0 ┆ 2                   ┆ 7.0 ┆ 14.0 │\n",
       "│ …                   ┆ …         ┆ …        ┆ …         ┆ … ┆ …     ┆ …                   ┆ …   ┆ …    │\n",
       "│ 2021-01-30 20:43:52 ┆ 985380125 ┆ 26.06027 ┆ -80.1281  ┆ … ┆ 258.8 ┆ 4039                ┆ 2.0 ┆ 1.0  │\n",
       "│ 2021-01-30 20:44:54 ┆ 985380125 ┆ 26.05998 ┆ -80.12995 ┆ … ┆ 262.2 ┆ 4039                ┆ 2.0 ┆ 1.0  │\n",
       "│ 2021-01-30 20:46:25 ┆ 985380125 ┆ 26.06018 ┆ -80.13224 ┆ … ┆ 321.7 ┆ 4039                ┆ 2.0 ┆ 1.0  │\n",
       "│ 2021-01-30 20:48:53 ┆ 985380125 ┆ 26.06063 ┆ -80.13228 ┆ … ┆ 360.0 ┆ 4039                ┆ 2.0 ┆ 1.0  │\n",
       "└─────────────────────┴───────────┴──────────┴───────────┴───┴───────┴─────────────────────┴─────┴──────┘"
      ]
     },
     "execution_count": 9,
     "metadata": {},
     "output_type": "execute_result"
    }
   ],
   "source": [
    "df"
   ]
  },
  {
   "cell_type": "code",
   "execution_count": 33,
   "id": "af0b94f1",
   "metadata": {
    "scrolled": true
   },
   "outputs": [],
   "source": [
    "df_pandas = df.to_pandas()"
   ]
  },
  {
   "cell_type": "code",
   "execution_count": 34,
   "id": "ba6d929f",
   "metadata": {},
   "outputs": [
    {
     "data": {
      "text/plain": [
       "(309414, 9)"
      ]
     },
     "execution_count": 34,
     "metadata": {},
     "output_type": "execute_result"
    }
   ],
   "source": [
    "df_pandas.shape"
   ]
  },
  {
   "cell_type": "code",
   "execution_count": 35,
   "id": "6dbc50c2",
   "metadata": {},
   "outputs": [
    {
     "data": {
      "text/plain": [
       "BaseDateTime           306347\n",
       "MMSI                      357\n",
       "LAT                      9954\n",
       "LON                     13120\n",
       "SOG                       433\n",
       "COG                      3601\n",
       "Navigation_sequence      1846\n",
       "i                          12\n",
       "j                          16\n",
       "dtype: int64"
      ]
     },
     "execution_count": 35,
     "metadata": {},
     "output_type": "execute_result"
    }
   ],
   "source": [
    "df_pandas.nunique()"
   ]
  },
  {
   "cell_type": "code",
   "execution_count": 36,
   "id": "5066d5cf",
   "metadata": {
    "scrolled": false
   },
   "outputs": [
    {
     "data": {
      "text/plain": [
       "BaseDateTime           datetime64[ns]\n",
       "MMSI                            int64\n",
       "LAT                           float64\n",
       "LON                           float64\n",
       "SOG                           float64\n",
       "COG                           float64\n",
       "Navigation_sequence             int64\n",
       "i                             float64\n",
       "j                             float64\n",
       "dtype: object"
      ]
     },
     "execution_count": 36,
     "metadata": {},
     "output_type": "execute_result"
    }
   ],
   "source": [
    "df_pandas.dtypes"
   ]
  },
  {
   "cell_type": "code",
   "execution_count": 37,
   "id": "2ccce669",
   "metadata": {},
   "outputs": [],
   "source": [
    "df_pandas.sort_values(by = ['Navigation_sequence','BaseDateTime'], inplace = True)"
   ]
  },
  {
   "cell_type": "code",
   "execution_count": 38,
   "id": "5bfdbf43",
   "metadata": {},
   "outputs": [],
   "source": [
    "# Resample the DataFrame with a frequency of 1 minute and use forward fill to fill missing data\n",
    "df_pandas = (df_pandas.set_index(['BaseDateTime'])).groupby('Navigation_sequence').resample('T').last()\n",
    "\n",
    "# Reset the index to make timestamp a regular column again\n",
    "df_pandas = df_pandas.drop(['Navigation_sequence'], axis = 1).reset_index()\n",
    "df_pandas.ffill(inplace = True)"
   ]
  },
  {
   "cell_type": "code",
   "execution_count": 39,
   "id": "ca2ba4f1",
   "metadata": {
    "collapsed": true
   },
   "outputs": [
    {
     "data": {
      "text/html": [
       "<div>\n",
       "<style scoped>\n",
       "    .dataframe tbody tr th:only-of-type {\n",
       "        vertical-align: middle;\n",
       "    }\n",
       "\n",
       "    .dataframe tbody tr th {\n",
       "        vertical-align: top;\n",
       "    }\n",
       "\n",
       "    .dataframe thead th {\n",
       "        text-align: right;\n",
       "    }\n",
       "</style>\n",
       "<table border=\"1\" class=\"dataframe\">\n",
       "  <thead>\n",
       "    <tr style=\"text-align: right;\">\n",
       "      <th></th>\n",
       "      <th>Navigation_sequence</th>\n",
       "      <th>BaseDateTime</th>\n",
       "      <th>MMSI</th>\n",
       "      <th>LAT</th>\n",
       "      <th>LON</th>\n",
       "      <th>SOG</th>\n",
       "      <th>COG</th>\n",
       "      <th>i</th>\n",
       "      <th>j</th>\n",
       "    </tr>\n",
       "  </thead>\n",
       "  <tbody>\n",
       "    <tr>\n",
       "      <th>0</th>\n",
       "      <td>2</td>\n",
       "      <td>2021-02-27 12:52:00</td>\n",
       "      <td>205553000.0</td>\n",
       "      <td>26.10166</td>\n",
       "      <td>-80.00492</td>\n",
       "      <td>6.5</td>\n",
       "      <td>329.0</td>\n",
       "      <td>7.0</td>\n",
       "      <td>15.0</td>\n",
       "    </tr>\n",
       "    <tr>\n",
       "      <th>1</th>\n",
       "      <td>2</td>\n",
       "      <td>2021-02-27 12:53:00</td>\n",
       "      <td>205553000.0</td>\n",
       "      <td>26.10342</td>\n",
       "      <td>-80.00615</td>\n",
       "      <td>6.5</td>\n",
       "      <td>328.0</td>\n",
       "      <td>7.0</td>\n",
       "      <td>15.0</td>\n",
       "    </tr>\n",
       "    <tr>\n",
       "      <th>2</th>\n",
       "      <td>2</td>\n",
       "      <td>2021-02-27 12:54:00</td>\n",
       "      <td>205553000.0</td>\n",
       "      <td>26.10527</td>\n",
       "      <td>-80.00736</td>\n",
       "      <td>6.5</td>\n",
       "      <td>328.1</td>\n",
       "      <td>7.0</td>\n",
       "      <td>15.0</td>\n",
       "    </tr>\n",
       "    <tr>\n",
       "      <th>3</th>\n",
       "      <td>2</td>\n",
       "      <td>2021-02-27 12:55:00</td>\n",
       "      <td>205553000.0</td>\n",
       "      <td>26.10697</td>\n",
       "      <td>-80.00869</td>\n",
       "      <td>6.2</td>\n",
       "      <td>321.0</td>\n",
       "      <td>7.0</td>\n",
       "      <td>14.0</td>\n",
       "    </tr>\n",
       "    <tr>\n",
       "      <th>4</th>\n",
       "      <td>2</td>\n",
       "      <td>2021-02-27 12:56:00</td>\n",
       "      <td>205553000.0</td>\n",
       "      <td>26.10697</td>\n",
       "      <td>-80.00869</td>\n",
       "      <td>6.2</td>\n",
       "      <td>321.0</td>\n",
       "      <td>7.0</td>\n",
       "      <td>14.0</td>\n",
       "    </tr>\n",
       "    <tr>\n",
       "      <th>...</th>\n",
       "      <td>...</td>\n",
       "      <td>...</td>\n",
       "      <td>...</td>\n",
       "      <td>...</td>\n",
       "      <td>...</td>\n",
       "      <td>...</td>\n",
       "      <td>...</td>\n",
       "      <td>...</td>\n",
       "      <td>...</td>\n",
       "    </tr>\n",
       "    <tr>\n",
       "      <th>592916</th>\n",
       "      <td>4039</td>\n",
       "      <td>2021-01-30 20:44:00</td>\n",
       "      <td>985380125.0</td>\n",
       "      <td>26.05998</td>\n",
       "      <td>-80.12995</td>\n",
       "      <td>5.9</td>\n",
       "      <td>262.2</td>\n",
       "      <td>2.0</td>\n",
       "      <td>1.0</td>\n",
       "    </tr>\n",
       "    <tr>\n",
       "      <th>592917</th>\n",
       "      <td>4039</td>\n",
       "      <td>2021-01-30 20:45:00</td>\n",
       "      <td>985380125.0</td>\n",
       "      <td>26.05998</td>\n",
       "      <td>-80.12995</td>\n",
       "      <td>5.9</td>\n",
       "      <td>262.2</td>\n",
       "      <td>2.0</td>\n",
       "      <td>1.0</td>\n",
       "    </tr>\n",
       "    <tr>\n",
       "      <th>592918</th>\n",
       "      <td>4039</td>\n",
       "      <td>2021-01-30 20:46:00</td>\n",
       "      <td>985380125.0</td>\n",
       "      <td>26.06018</td>\n",
       "      <td>-80.13224</td>\n",
       "      <td>2.9</td>\n",
       "      <td>321.7</td>\n",
       "      <td>2.0</td>\n",
       "      <td>1.0</td>\n",
       "    </tr>\n",
       "    <tr>\n",
       "      <th>592919</th>\n",
       "      <td>4039</td>\n",
       "      <td>2021-01-30 20:47:00</td>\n",
       "      <td>985380125.0</td>\n",
       "      <td>26.06018</td>\n",
       "      <td>-80.13224</td>\n",
       "      <td>2.9</td>\n",
       "      <td>321.7</td>\n",
       "      <td>2.0</td>\n",
       "      <td>1.0</td>\n",
       "    </tr>\n",
       "    <tr>\n",
       "      <th>592920</th>\n",
       "      <td>4039</td>\n",
       "      <td>2021-01-30 20:48:00</td>\n",
       "      <td>985380125.0</td>\n",
       "      <td>26.06063</td>\n",
       "      <td>-80.13228</td>\n",
       "      <td>0.2</td>\n",
       "      <td>360.0</td>\n",
       "      <td>2.0</td>\n",
       "      <td>1.0</td>\n",
       "    </tr>\n",
       "  </tbody>\n",
       "</table>\n",
       "<p>592921 rows × 9 columns</p>\n",
       "</div>"
      ],
      "text/plain": [
       "        Navigation_sequence        BaseDateTime         MMSI       LAT  \\\n",
       "0                         2 2021-02-27 12:52:00  205553000.0  26.10166   \n",
       "1                         2 2021-02-27 12:53:00  205553000.0  26.10342   \n",
       "2                         2 2021-02-27 12:54:00  205553000.0  26.10527   \n",
       "3                         2 2021-02-27 12:55:00  205553000.0  26.10697   \n",
       "4                         2 2021-02-27 12:56:00  205553000.0  26.10697   \n",
       "...                     ...                 ...          ...       ...   \n",
       "592916                 4039 2021-01-30 20:44:00  985380125.0  26.05998   \n",
       "592917                 4039 2021-01-30 20:45:00  985380125.0  26.05998   \n",
       "592918                 4039 2021-01-30 20:46:00  985380125.0  26.06018   \n",
       "592919                 4039 2021-01-30 20:47:00  985380125.0  26.06018   \n",
       "592920                 4039 2021-01-30 20:48:00  985380125.0  26.06063   \n",
       "\n",
       "             LON  SOG    COG    i     j  \n",
       "0      -80.00492  6.5  329.0  7.0  15.0  \n",
       "1      -80.00615  6.5  328.0  7.0  15.0  \n",
       "2      -80.00736  6.5  328.1  7.0  15.0  \n",
       "3      -80.00869  6.2  321.0  7.0  14.0  \n",
       "4      -80.00869  6.2  321.0  7.0  14.0  \n",
       "...          ...  ...    ...  ...   ...  \n",
       "592916 -80.12995  5.9  262.2  2.0   1.0  \n",
       "592917 -80.12995  5.9  262.2  2.0   1.0  \n",
       "592918 -80.13224  2.9  321.7  2.0   1.0  \n",
       "592919 -80.13224  2.9  321.7  2.0   1.0  \n",
       "592920 -80.13228  0.2  360.0  2.0   1.0  \n",
       "\n",
       "[592921 rows x 9 columns]"
      ]
     },
     "execution_count": 39,
     "metadata": {},
     "output_type": "execute_result"
    }
   ],
   "source": [
    "df_pandas"
   ]
  },
  {
   "cell_type": "markdown",
   "id": "30ea24be",
   "metadata": {},
   "source": [
    "## We are loosing too much of data due to our assumption maybe\n",
    "- So as of now lets just use resampled data from previous analysis to regenerate results with polars"
   ]
  }
 ],
 "metadata": {
  "kernelspec": {
   "display_name": "Python 3 (ipykernel)",
   "language": "python",
   "name": "python3"
  },
  "language_info": {
   "codemirror_mode": {
    "name": "ipython",
    "version": 3
   },
   "file_extension": ".py",
   "mimetype": "text/x-python",
   "name": "python",
   "nbconvert_exporter": "python",
   "pygments_lexer": "ipython3",
   "version": "3.9.13"
  }
 },
 "nbformat": 4,
 "nbformat_minor": 5
}
